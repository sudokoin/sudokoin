{
 "cells": [
  {
   "cell_type": "markdown",
   "metadata": {},
   "source": [
    "Goal: Calculate a distribution of coins over boards. Each board must get at least 1 coin and fractions are not permitted. Boards that are early in the distribution process should receive more coins. The amount of coins for board n should be easy to calculate. Predefined tiers are possible. First tier should not be too large. A good value would be in the tens of thousands."
   ]
  },
  {
   "cell_type": "code",
   "execution_count": 6,
   "metadata": {
    "scrolled": true
   },
   "outputs": [
    {
     "name": "stdout",
     "output_type": "stream",
     "text": [
      "if (_bNo < 11572) { return 576460752303423488; } // tier 1\n",
      "if (_bNo < 23144) { return 288230376151711744; } // tier 2\n",
      "if (_bNo < 46288) { return 144115188075855872; } // tier 3\n",
      "if (_bNo < 92577) { return 72057594037927936; } // tier 4\n",
      "if (_bNo < 185154) { return 36028797018963968; } // tier 5\n",
      "if (_bNo < 370309) { return 18014398509481984; } // tier 6\n",
      "if (_bNo < 740619) { return 9007199254740992; } // tier 7\n",
      "if (_bNo < 1481238) { return 4503599627370496; } // tier 8\n",
      "if (_bNo < 2962476) { return 2251799813685248; } // tier 9\n",
      "if (_bNo < 5924952) { return 1125899906842624; } // tier 10\n",
      "if (_bNo < 11849905) { return 562949953421312; } // tier 11\n",
      "if (_bNo < 23699811) { return 281474976710656; } // tier 12\n",
      "if (_bNo < 47399622) { return 140737488355328; } // tier 13\n",
      "if (_bNo < 94799244) { return 70368744177664; } // tier 14\n",
      "if (_bNo < 189598488) { return 35184372088832; } // tier 15\n",
      "if (_bNo < 379196976) { return 17592186044416; } // tier 16\n",
      "if (_bNo < 758393952) { return 8796093022208; } // tier 17\n",
      "if (_bNo < 1516787904) { return 4398046511104; } // tier 18\n",
      "if (_bNo < 3033575809) { return 2199023255552; } // tier 19\n",
      "if (_bNo < 6067151618) { return 1099511627776; } // tier 20\n",
      "if (_bNo < 12134303237) { return 549755813888; } // tier 21\n",
      "if (_bNo < 24268606474) { return 274877906944; } // tier 22\n",
      "if (_bNo < 48537212948) { return 137438953472; } // tier 23\n",
      "if (_bNo < 97074425896) { return 68719476736; } // tier 24\n",
      "if (_bNo < 194148851792) { return 34359738368; } // tier 25\n",
      "if (_bNo < 388297703584) { return 17179869184; } // tier 26\n",
      "if (_bNo < 776595407168) { return 8589934592; } // tier 27\n",
      "if (_bNo < 1553190814336) { return 4294967296; } // tier 28\n",
      "if (_bNo < 3106381628672) { return 2147483648; } // tier 29\n",
      "if (_bNo < 6212763257344) { return 1073741824; } // tier 30\n",
      "if (_bNo < 12425526514688) { return 536870912; } // tier 31\n",
      "if (_bNo < 24851053029377) { return 268435456; } // tier 32\n",
      "if (_bNo < 49702106058754) { return 134217728; } // tier 33\n",
      "if (_bNo < 99404212117509) { return 67108864; } // tier 34\n",
      "if (_bNo < 198808424235018) { return 33554432; } // tier 35\n",
      "if (_bNo < 397616848470036) { return 16777216; } // tier 36\n",
      "if (_bNo < 795233696940073) { return 8388608; } // tier 37\n",
      "if (_bNo < 1590467393880146) { return 4194304; } // tier 38\n",
      "if (_bNo < 3180934787760292) { return 2097152; } // tier 39\n",
      "if (_bNo < 6361869575520585) { return 1048576; } // tier 40\n",
      "if (_bNo < 12723739151041170) { return 524288; } // tier 41\n",
      "if (_bNo < 25447478302082340) { return 262144; } // tier 42\n",
      "if (_bNo < 50894956604164680) { return 131072; } // tier 43\n",
      "if (_bNo < 101789913208329360) { return 65536; } // tier 44\n",
      "if (_bNo < 203579826416658720) { return 32768; } // tier 45\n",
      "if (_bNo < 407159652833317440) { return 16384; } // tier 46\n",
      "if (_bNo < 814319305666634880) { return 8192; } // tier 47\n",
      "if (_bNo < 1628638611333269760) { return 4096; } // tier 48\n",
      "if (_bNo < 3257277222666539520) { return 2048; } // tier 49\n",
      "if (_bNo < 6514554445333079040) { return 1024; } // tier 50\n",
      "if (_bNo < 13029108890666158080) { return 512; } // tier 51\n",
      "if (_bNo < 26058217781332316160) { return 256; } // tier 52\n",
      "if (_bNo < 52116435562664632320) { return 128; } // tier 53\n",
      "if (_bNo < 104232871125329264640) { return 64; } // tier 54\n",
      "if (_bNo < 208465742250658529280) { return 32; } // tier 55\n",
      "if (_bNo < 416931484501317058560) { return 16; } // tier 56\n",
      "if (_bNo < 833862969002634117120) { return 8; } // tier 57\n",
      "if (_bNo < 1667725938005268234240) { return 4; } // tier 58\n",
      "if (_bNo < 3335451876010536468480) { return 2; } // tier 59\n",
      "if (_bNo < 6670903752021072936960) { return 1; } // tier 60\n",
      "uint supply = 203462379904501283815424;\n"
     ]
    }
   ],
   "source": [
    "boards = 6670903752021072936960\n",
    "\n",
    "n_tiers = 0\n",
    "boards_per_tier = boards\n",
    "while boards_per_tier > 10000:\n",
    "    n_tiers += 1\n",
    "    boards_per_tier //= 2\n",
    "\n",
    "class Tier:\n",
    "    def __init__(self, boards, coins_per_board):\n",
    "        self.boards = boards\n",
    "        self.coins_per_board = coins_per_board\n",
    "\n",
    "tiers = []\n",
    "upper_bound = boards\n",
    "supply = 0\n",
    "last_tier = n_tiers-1\n",
    "\n",
    "for tier in range(0, n_tiers):\n",
    "    coins_per_board = 2**tier\n",
    "    coins_per_board_next_tier = 2**(tier+1)\n",
    "    lower_bound = boards // coins_per_board_next_tier\n",
    "    if tier == last_tier:\n",
    "        lower_bound = 0\n",
    "    boards_in_tier = upper_bound - lower_bound\n",
    "    tiers.append(Tier(boards_in_tier, coins_per_board))\n",
    "    supply += boards_in_tier * coins_per_board\n",
    "    upper_bound = lower_bound\n",
    "\n",
    "boards_sum = 0\n",
    "for i, t in enumerate(reversed(tiers)):\n",
    "    boards_sum += t.boards\n",
    "    print(f\"if (_bNo < { boards_sum }) {{ return { t.coins_per_board }; }} // tier { i+1 }\")\n",
    "\n",
    "assert boards_sum == boards\n",
    "\n",
    "print(f\"uint supply = { supply };\")"
   ]
  }
 ],
 "metadata": {
  "kernelspec": {
   "display_name": "Python 3",
   "language": "python",
   "name": "python3"
  },
  "language_info": {
   "codemirror_mode": {
    "name": "ipython",
    "version": 3
   },
   "file_extension": ".py",
   "mimetype": "text/x-python",
   "name": "python",
   "nbconvert_exporter": "python",
   "pygments_lexer": "ipython3",
   "version": "3.6.2"
  }
 },
 "nbformat": 4,
 "nbformat_minor": 2
}
